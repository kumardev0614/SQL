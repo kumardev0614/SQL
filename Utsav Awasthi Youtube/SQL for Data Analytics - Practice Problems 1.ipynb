{
 "cells": [
  {
   "cell_type": "markdown",
   "metadata": {},
   "source": [
    "<font size=\"3\" color=\"brown\">Author : UTSAV AWASTHI</font><br>\n",
    "<font size=\"1\" color=\"brown\">About Me: http://iamawesome.com/ </font> <br>\n",
    "Subscribe to my YouTube channel <a href=\"https://www.youtube.com/channel/UCJpp55YcP5swWj8TmIOd0OA/\">here</a><br> \n",
    "For serious conversations related to career and jobs, follow me on <a href=\"https://www.linkedin.com/in/utsavawasthi/\">LinkedIn</a><br>\n",
    "For low-effort dank memes and one-liners, follow me on <a href=\"https://twitter.com/utsavsaidwhat\">Twitter</a>"
   ]
  },
  {
   "cell_type": "markdown",
   "metadata": {},
   "source": [
    "<div align=\"center\">\n",
    "    <font size = 3 color=\"orange\" style=\"font-family: 'Comic Sans MS'\">// ज्ञानं परमं बलम् //</font><br>\n",
    "</div>\n",
    "<img src = \"https://cloudblogs.microsoft.com/uploads/prod/sites/32/2020/05/SQL.png\" width=\"30%\" height=\"30%\">\n",
    "<br>\n",
    "\n",
    "<div align=\"center\" id=\"contents\"> <font size=\"5\" color=\"orange\"><b>STRUCTURE QUERY LANGUAGE</b></font> </div>\n",
    "<br>"
   ]
  },
  {
   "cell_type": "markdown",
   "metadata": {},
   "source": [
    "<h2> Importing Datasets </h2>\n",
    "Let's import the relevant datasets on which we will run SQL queries. Press Ctrl+Enter to run the codes in each of the boxes below.<br><br>\n",
    "I highly advice you to download the excel file (available <a href=\"https://github.com/ItsAwSM/SQL-for-Data-Analytics/blob/main/sales_database.xlsx?raw=true\">here</a>) which has the schema and the data which we will query in this assignment. Spend some time to go through the schema, understand the relationships between different datasets and then analyze all the datasets in excel once. "
   ]
  },
  {
   "cell_type": "code",
   "execution_count": null,
   "metadata": {},
   "outputs": [],
   "source": [
    "pip install xlrd"
   ]
  },
  {
   "cell_type": "code",
   "execution_count": 1,
   "metadata": {},
   "outputs": [],
   "source": [
    "import pandas as pd\n",
    "import pandasql as ps"
   ]
  },
  {
   "cell_type": "code",
   "execution_count": 2,
   "metadata": {},
   "outputs": [
    {
     "data": {
      "text/html": [
       "<div>\n",
       "<style scoped>\n",
       "    .dataframe tbody tr th:only-of-type {\n",
       "        vertical-align: middle;\n",
       "    }\n",
       "\n",
       "    .dataframe tbody tr th {\n",
       "        vertical-align: top;\n",
       "    }\n",
       "\n",
       "    .dataframe thead th {\n",
       "        text-align: right;\n",
       "    }\n",
       "</style>\n",
       "<table border=\"1\" class=\"dataframe\">\n",
       "  <thead>\n",
       "    <tr style=\"text-align: right;\">\n",
       "      <th></th>\n",
       "      <th>cust_id</th>\n",
       "      <th>first_name</th>\n",
       "      <th>last_name</th>\n",
       "      <th>email</th>\n",
       "      <th>phone</th>\n",
       "      <th>primary_pincode</th>\n",
       "      <th>gender</th>\n",
       "      <th>dob</th>\n",
       "      <th>joining_date</th>\n",
       "    </tr>\n",
       "  </thead>\n",
       "  <tbody>\n",
       "    <tr>\n",
       "      <th>0</th>\n",
       "      <td>10000001</td>\n",
       "      <td>Rahul</td>\n",
       "      <td>Gupta</td>\n",
       "      <td>rahul.gupta@gmail.com</td>\n",
       "      <td>8960722319</td>\n",
       "      <td>110001</td>\n",
       "      <td>male</td>\n",
       "      <td>02-12-1977</td>\n",
       "      <td>19-02-2016</td>\n",
       "    </tr>\n",
       "    <tr>\n",
       "      <th>1</th>\n",
       "      <td>10000002</td>\n",
       "      <td>Abhinav</td>\n",
       "      <td>Sharma</td>\n",
       "      <td>abhinav.sharma@gmail.com</td>\n",
       "      <td>8857852863</td>\n",
       "      <td>400001</td>\n",
       "      <td>male</td>\n",
       "      <td>20-09-1995</td>\n",
       "      <td>01-10-2016</td>\n",
       "    </tr>\n",
       "    <tr>\n",
       "      <th>2</th>\n",
       "      <td>10000003</td>\n",
       "      <td>Anubhav</td>\n",
       "      <td>Patel</td>\n",
       "      <td>anubhav.patel@gmail.com</td>\n",
       "      <td>8492146048</td>\n",
       "      <td>560001</td>\n",
       "      <td>male</td>\n",
       "      <td>26-12-1986</td>\n",
       "      <td>16-08-2018</td>\n",
       "    </tr>\n",
       "    <tr>\n",
       "      <th>3</th>\n",
       "      <td>10000004</td>\n",
       "      <td>Neha</td>\n",
       "      <td>Verma</td>\n",
       "      <td>neha.verma@gmail.com</td>\n",
       "      <td>8631861914</td>\n",
       "      <td>600001</td>\n",
       "      <td>female</td>\n",
       "      <td>20-01-2002</td>\n",
       "      <td>28-07-2009</td>\n",
       "    </tr>\n",
       "    <tr>\n",
       "      <th>4</th>\n",
       "      <td>10000005</td>\n",
       "      <td>John</td>\n",
       "      <td>Bernard</td>\n",
       "      <td>john.bernard@gmail.com</td>\n",
       "      <td>8215391844</td>\n",
       "      <td>500001</td>\n",
       "      <td>male</td>\n",
       "      <td>NaN</td>\n",
       "      <td>05-03-2017</td>\n",
       "    </tr>\n",
       "  </tbody>\n",
       "</table>\n",
       "</div>"
      ],
      "text/plain": [
       "    cust_id first_name last_name                     email       phone  \\\n",
       "0  10000001      Rahul     Gupta     rahul.gupta@gmail.com  8960722319   \n",
       "1  10000002    Abhinav    Sharma  abhinav.sharma@gmail.com  8857852863   \n",
       "2  10000003    Anubhav     Patel   anubhav.patel@gmail.com  8492146048   \n",
       "3  10000004       Neha     Verma      neha.verma@gmail.com  8631861914   \n",
       "4  10000005       John   Bernard    john.bernard@gmail.com  8215391844   \n",
       "\n",
       "   primary_pincode  gender         dob joining_date  \n",
       "0           110001    male  02-12-1977   19-02-2016  \n",
       "1           400001    male  20-09-1995   01-10-2016  \n",
       "2           560001    male  26-12-1986   16-08-2018  \n",
       "3           600001  female  20-01-2002   28-07-2009  \n",
       "4           500001    male         NaN   05-03-2017  "
      ]
     },
     "execution_count": 2,
     "metadata": {},
     "output_type": "execute_result"
    }
   ],
   "source": [
    "#Importing customer dataset\n",
    "customer_dim = pd.read_excel(\"https://github.com/ItsAwSM/SQL-for-Data-Analytics/blob/main/sales_database.xlsx?raw=true\", \n",
    "                             sheet_name=\"customer_dim\")\n",
    "customer_dim.head()"
   ]
  },
  {
   "cell_type": "code",
   "execution_count": 3,
   "metadata": {},
   "outputs": [
    {
     "data": {
      "text/html": [
       "<div>\n",
       "<style scoped>\n",
       "    .dataframe tbody tr th:only-of-type {\n",
       "        vertical-align: middle;\n",
       "    }\n",
       "\n",
       "    .dataframe tbody tr th {\n",
       "        vertical-align: top;\n",
       "    }\n",
       "\n",
       "    .dataframe thead th {\n",
       "        text-align: right;\n",
       "    }\n",
       "</style>\n",
       "<table border=\"1\" class=\"dataframe\">\n",
       "  <thead>\n",
       "    <tr style=\"text-align: right;\">\n",
       "      <th></th>\n",
       "      <th>product_id</th>\n",
       "      <th>product_name</th>\n",
       "      <th>brand</th>\n",
       "      <th>category</th>\n",
       "      <th>procurement_cost_per_unit</th>\n",
       "      <th>mrp</th>\n",
       "    </tr>\n",
       "  </thead>\n",
       "  <tbody>\n",
       "    <tr>\n",
       "      <th>0</th>\n",
       "      <td>12345</td>\n",
       "      <td>HP XYZ Mouse</td>\n",
       "      <td>HP</td>\n",
       "      <td>mouse</td>\n",
       "      <td>650</td>\n",
       "      <td>1500</td>\n",
       "    </tr>\n",
       "    <tr>\n",
       "      <th>1</th>\n",
       "      <td>12346</td>\n",
       "      <td>HP 241H</td>\n",
       "      <td>HP</td>\n",
       "      <td>laptop</td>\n",
       "      <td>45000</td>\n",
       "      <td>80000</td>\n",
       "    </tr>\n",
       "    <tr>\n",
       "      <th>2</th>\n",
       "      <td>12347</td>\n",
       "      <td>HP 8GB Pendrive</td>\n",
       "      <td>HP</td>\n",
       "      <td>pendrive</td>\n",
       "      <td>350</td>\n",
       "      <td>800</td>\n",
       "    </tr>\n",
       "    <tr>\n",
       "      <th>3</th>\n",
       "      <td>12348</td>\n",
       "      <td>Dell ABC Mouse</td>\n",
       "      <td>Dell</td>\n",
       "      <td>mouse</td>\n",
       "      <td>350</td>\n",
       "      <td>1100</td>\n",
       "    </tr>\n",
       "    <tr>\n",
       "      <th>4</th>\n",
       "      <td>12349</td>\n",
       "      <td>Dell AX420</td>\n",
       "      <td>Dell</td>\n",
       "      <td>laptop</td>\n",
       "      <td>30000</td>\n",
       "      <td>75000</td>\n",
       "    </tr>\n",
       "  </tbody>\n",
       "</table>\n",
       "</div>"
      ],
      "text/plain": [
       "   product_id     product_name brand  category  procurement_cost_per_unit  \\\n",
       "0       12345     HP XYZ Mouse    HP     mouse                        650   \n",
       "1       12346          HP 241H    HP    laptop                      45000   \n",
       "2       12347  HP 8GB Pendrive    HP  pendrive                        350   \n",
       "3       12348   Dell ABC Mouse  Dell     mouse                        350   \n",
       "4       12349       Dell AX420  Dell    laptop                      30000   \n",
       "\n",
       "     mrp  \n",
       "0   1500  \n",
       "1  80000  \n",
       "2    800  \n",
       "3   1100  \n",
       "4  75000  "
      ]
     },
     "execution_count": 3,
     "metadata": {},
     "output_type": "execute_result"
    }
   ],
   "source": [
    "#Importing product dataset\n",
    "product_dim = pd.read_excel(\"https://github.com/ItsAwSM/SQL-for-Data-Analytics/blob/main/sales_database.xlsx?raw=true\", \n",
    "                            sheet_name=\"product_dim\")\n",
    "product_dim.head()"
   ]
  },
  {
   "cell_type": "code",
   "execution_count": 4,
   "metadata": {},
   "outputs": [
    {
     "data": {
      "text/html": [
       "<div>\n",
       "<style scoped>\n",
       "    .dataframe tbody tr th:only-of-type {\n",
       "        vertical-align: middle;\n",
       "    }\n",
       "\n",
       "    .dataframe tbody tr th {\n",
       "        vertical-align: top;\n",
       "    }\n",
       "\n",
       "    .dataframe thead th {\n",
       "        text-align: right;\n",
       "    }\n",
       "</style>\n",
       "<table border=\"1\" class=\"dataframe\">\n",
       "  <thead>\n",
       "    <tr style=\"text-align: right;\">\n",
       "      <th></th>\n",
       "      <th>delivery_person_id</th>\n",
       "      <th>name</th>\n",
       "      <th>joining_date</th>\n",
       "      <th>pincode</th>\n",
       "    </tr>\n",
       "  </thead>\n",
       "  <tbody>\n",
       "    <tr>\n",
       "      <th>0</th>\n",
       "      <td>1000008</td>\n",
       "      <td>Indranoor Singh</td>\n",
       "      <td>08-03-2007</td>\n",
       "      <td>110001</td>\n",
       "    </tr>\n",
       "    <tr>\n",
       "      <th>1</th>\n",
       "      <td>1000002</td>\n",
       "      <td>Simon Williams</td>\n",
       "      <td>23-02-2007</td>\n",
       "      <td>400001</td>\n",
       "    </tr>\n",
       "    <tr>\n",
       "      <th>2</th>\n",
       "      <td>1000004</td>\n",
       "      <td>Anubhav Tyagi</td>\n",
       "      <td>16-11-2007</td>\n",
       "      <td>400001</td>\n",
       "    </tr>\n",
       "    <tr>\n",
       "      <th>3</th>\n",
       "      <td>1000006</td>\n",
       "      <td>Aviral Vats</td>\n",
       "      <td>16-11-2007</td>\n",
       "      <td>400001</td>\n",
       "    </tr>\n",
       "    <tr>\n",
       "      <th>4</th>\n",
       "      <td>1000009</td>\n",
       "      <td>Rocky Tiwari</td>\n",
       "      <td>16-11-2007</td>\n",
       "      <td>400001</td>\n",
       "    </tr>\n",
       "  </tbody>\n",
       "</table>\n",
       "</div>"
      ],
      "text/plain": [
       "   delivery_person_id             name joining_date  pincode\n",
       "0             1000008  Indranoor Singh   08-03-2007   110001\n",
       "1             1000002   Simon Williams   23-02-2007   400001\n",
       "2             1000004    Anubhav Tyagi   16-11-2007   400001\n",
       "3             1000006      Aviral Vats   16-11-2007   400001\n",
       "4             1000009     Rocky Tiwari   16-11-2007   400001"
      ]
     },
     "execution_count": 4,
     "metadata": {},
     "output_type": "execute_result"
    }
   ],
   "source": [
    "#Importing delivery person dataset\n",
    "delivery_person_dim = pd.read_excel(\"https://github.com/ItsAwSM/SQL-for-Data-Analytics/blob/main/sales_database.xlsx?raw=true\",\n",
    "                                    sheet_name=\"delivery_person_dim\")\n",
    "delivery_person_dim.head()"
   ]
  },
  {
   "cell_type": "code",
   "execution_count": 5,
   "metadata": {
    "scrolled": true
   },
   "outputs": [
    {
     "data": {
      "text/html": [
       "<div>\n",
       "<style scoped>\n",
       "    .dataframe tbody tr th:only-of-type {\n",
       "        vertical-align: middle;\n",
       "    }\n",
       "\n",
       "    .dataframe tbody tr th {\n",
       "        vertical-align: top;\n",
       "    }\n",
       "\n",
       "    .dataframe thead th {\n",
       "        text-align: right;\n",
       "    }\n",
       "</style>\n",
       "<table border=\"1\" class=\"dataframe\">\n",
       "  <thead>\n",
       "    <tr style=\"text-align: right;\">\n",
       "      <th></th>\n",
       "      <th>pincode</th>\n",
       "      <th>city</th>\n",
       "      <th>state</th>\n",
       "    </tr>\n",
       "  </thead>\n",
       "  <tbody>\n",
       "    <tr>\n",
       "      <th>0</th>\n",
       "      <td>110001</td>\n",
       "      <td>New Delhi</td>\n",
       "      <td>New Delhi</td>\n",
       "    </tr>\n",
       "    <tr>\n",
       "      <th>1</th>\n",
       "      <td>400001</td>\n",
       "      <td>Mumbai</td>\n",
       "      <td>Maharastra</td>\n",
       "    </tr>\n",
       "    <tr>\n",
       "      <th>2</th>\n",
       "      <td>560001</td>\n",
       "      <td>Bangalore</td>\n",
       "      <td>Karnataka</td>\n",
       "    </tr>\n",
       "    <tr>\n",
       "      <th>3</th>\n",
       "      <td>600001</td>\n",
       "      <td>Chennai</td>\n",
       "      <td>Tamil Nadu</td>\n",
       "    </tr>\n",
       "    <tr>\n",
       "      <th>4</th>\n",
       "      <td>500001</td>\n",
       "      <td>Hyderabad</td>\n",
       "      <td>Telangana</td>\n",
       "    </tr>\n",
       "  </tbody>\n",
       "</table>\n",
       "</div>"
      ],
      "text/plain": [
       "   pincode       city       state\n",
       "0   110001  New Delhi   New Delhi\n",
       "1   400001     Mumbai  Maharastra\n",
       "2   560001  Bangalore   Karnataka\n",
       "3   600001    Chennai  Tamil Nadu\n",
       "4   500001  Hyderabad   Telangana"
      ]
     },
     "execution_count": 5,
     "metadata": {},
     "output_type": "execute_result"
    }
   ],
   "source": [
    "#Importing pincode dataset\n",
    "pincode_dim = pd.read_excel(\"https://github.com/ItsAwSM/SQL-for-Data-Analytics/blob/main/sales_database.xlsx?raw=true\", \n",
    "                            sheet_name=\"pincode_dim\")\n",
    "pincode_dim.head()"
   ]
  },
  {
   "cell_type": "code",
   "execution_count": 6,
   "metadata": {
    "scrolled": false
   },
   "outputs": [
    {
     "data": {
      "text/html": [
       "<div>\n",
       "<style scoped>\n",
       "    .dataframe tbody tr th:only-of-type {\n",
       "        vertical-align: middle;\n",
       "    }\n",
       "\n",
       "    .dataframe tbody tr th {\n",
       "        vertical-align: top;\n",
       "    }\n",
       "\n",
       "    .dataframe thead th {\n",
       "        text-align: right;\n",
       "    }\n",
       "</style>\n",
       "<table border=\"1\" class=\"dataframe\">\n",
       "  <thead>\n",
       "    <tr style=\"text-align: right;\">\n",
       "      <th></th>\n",
       "      <th>order_id</th>\n",
       "      <th>order_type</th>\n",
       "      <th>cust_id</th>\n",
       "      <th>order_date</th>\n",
       "      <th>delivery_date</th>\n",
       "      <th>tot_units</th>\n",
       "      <th>displayed_selling_price_per_unit</th>\n",
       "      <th>total_amount_paid</th>\n",
       "      <th>product_id</th>\n",
       "      <th>delivery_person_id</th>\n",
       "      <th>payment_type</th>\n",
       "      <th>delivery_pincode</th>\n",
       "    </tr>\n",
       "  </thead>\n",
       "  <tbody>\n",
       "    <tr>\n",
       "      <th>0</th>\n",
       "      <td>10000000001</td>\n",
       "      <td>buy</td>\n",
       "      <td>10000009</td>\n",
       "      <td>01-01-2020</td>\n",
       "      <td>03-01-2020</td>\n",
       "      <td>2</td>\n",
       "      <td>73500</td>\n",
       "      <td>138180</td>\n",
       "      <td>12349</td>\n",
       "      <td>1000003</td>\n",
       "      <td>cash</td>\n",
       "      <td>500001</td>\n",
       "    </tr>\n",
       "    <tr>\n",
       "      <th>1</th>\n",
       "      <td>10000000002</td>\n",
       "      <td>buy</td>\n",
       "      <td>10000004</td>\n",
       "      <td>01-01-2020</td>\n",
       "      <td>04-01-2020</td>\n",
       "      <td>9</td>\n",
       "      <td>67500</td>\n",
       "      <td>577125</td>\n",
       "      <td>12349</td>\n",
       "      <td>1000005</td>\n",
       "      <td>cash</td>\n",
       "      <td>700001</td>\n",
       "    </tr>\n",
       "    <tr>\n",
       "      <th>2</th>\n",
       "      <td>10000000003</td>\n",
       "      <td>buy</td>\n",
       "      <td>10000012</td>\n",
       "      <td>01-01-2020</td>\n",
       "      <td>02-01-2020</td>\n",
       "      <td>2</td>\n",
       "      <td>60750</td>\n",
       "      <td>119070</td>\n",
       "      <td>12349</td>\n",
       "      <td>1000002</td>\n",
       "      <td>netbanking</td>\n",
       "      <td>400001</td>\n",
       "    </tr>\n",
       "    <tr>\n",
       "      <th>3</th>\n",
       "      <td>10000000004</td>\n",
       "      <td>buy</td>\n",
       "      <td>10000012</td>\n",
       "      <td>01-01-2020</td>\n",
       "      <td>03-01-2020</td>\n",
       "      <td>8</td>\n",
       "      <td>736</td>\n",
       "      <td>5824</td>\n",
       "      <td>12347</td>\n",
       "      <td>1000010</td>\n",
       "      <td>cash</td>\n",
       "      <td>600001</td>\n",
       "    </tr>\n",
       "    <tr>\n",
       "      <th>4</th>\n",
       "      <td>10000000005</td>\n",
       "      <td>buy</td>\n",
       "      <td>10000008</td>\n",
       "      <td>01-01-2020</td>\n",
       "      <td>06-01-2020</td>\n",
       "      <td>1</td>\n",
       "      <td>60750</td>\n",
       "      <td>57105</td>\n",
       "      <td>12349</td>\n",
       "      <td>1000003</td>\n",
       "      <td>debit</td>\n",
       "      <td>500001</td>\n",
       "    </tr>\n",
       "  </tbody>\n",
       "</table>\n",
       "</div>"
      ],
      "text/plain": [
       "      order_id order_type   cust_id  order_date delivery_date  tot_units  \\\n",
       "0  10000000001        buy  10000009  01-01-2020    03-01-2020          2   \n",
       "1  10000000002        buy  10000004  01-01-2020    04-01-2020          9   \n",
       "2  10000000003        buy  10000012  01-01-2020    02-01-2020          2   \n",
       "3  10000000004        buy  10000012  01-01-2020    03-01-2020          8   \n",
       "4  10000000005        buy  10000008  01-01-2020    06-01-2020          1   \n",
       "\n",
       "   displayed_selling_price_per_unit  total_amount_paid  product_id  \\\n",
       "0                             73500             138180       12349   \n",
       "1                             67500             577125       12349   \n",
       "2                             60750             119070       12349   \n",
       "3                               736               5824       12347   \n",
       "4                             60750              57105       12349   \n",
       "\n",
       "   delivery_person_id payment_type  delivery_pincode  \n",
       "0             1000003         cash            500001  \n",
       "1             1000005         cash            700001  \n",
       "2             1000002   netbanking            400001  \n",
       "3             1000010         cash            600001  \n",
       "4             1000003        debit            500001  "
      ]
     },
     "execution_count": 6,
     "metadata": {},
     "output_type": "execute_result"
    }
   ],
   "source": [
    "#Importing order dataset\n",
    "order_dim = pd.read_excel(\"https://github.com/ItsAwSM/SQL-for-Data-Analytics/blob/main/sales_database.xlsx?raw=true\", \n",
    "                          sheet_name=\"order_dim\")\n",
    "order_dim.head()"
   ]
  },
  {
   "cell_type": "markdown",
   "metadata": {},
   "source": [
    "<b>Sample question</b><br>\n",
    "You need to write the SQL query between the space mentioned in the box below and then press Ctrl+Enter to run the query. Here is an example - "
   ]
  },
  {
   "cell_type": "markdown",
   "metadata": {},
   "source": [
    "<b>Q0.</b> How many customers are male and how many are female?"
   ]
  },
  {
   "cell_type": "code",
   "execution_count": 14,
   "metadata": {},
   "outputs": [
    {
     "data": {
      "text/html": [
       "<div>\n",
       "<style scoped>\n",
       "    .dataframe tbody tr th:only-of-type {\n",
       "        vertical-align: middle;\n",
       "    }\n",
       "\n",
       "    .dataframe tbody tr th {\n",
       "        vertical-align: top;\n",
       "    }\n",
       "\n",
       "    .dataframe thead th {\n",
       "        text-align: right;\n",
       "    }\n",
       "</style>\n",
       "<table border=\"1\" class=\"dataframe\">\n",
       "  <thead>\n",
       "    <tr style=\"text-align: right;\">\n",
       "      <th></th>\n",
       "      <th>gender</th>\n",
       "      <th>Count</th>\n",
       "    </tr>\n",
       "  </thead>\n",
       "  <tbody>\n",
       "    <tr>\n",
       "      <th>0</th>\n",
       "      <td>female</td>\n",
       "      <td>4</td>\n",
       "    </tr>\n",
       "    <tr>\n",
       "      <th>1</th>\n",
       "      <td>male</td>\n",
       "      <td>10</td>\n",
       "    </tr>\n",
       "  </tbody>\n",
       "</table>\n",
       "</div>"
      ],
      "text/plain": [
       "   gender  Count\n",
       "0  female      4\n",
       "1    male     10"
      ]
     },
     "execution_count": 14,
     "metadata": {},
     "output_type": "execute_result"
    }
   ],
   "source": [
    "ans = ps.sqldf(\"\"\"\n",
    "---------------------WRITE QUERY BELOW---------------------\n",
    "\n",
    "SELECT \n",
    "    customers.gender,\n",
    "    COUNT(customers.gender) AS Count  \n",
    "FROM customer_dim AS customers\n",
    "\n",
    "GROUP BY customers.gender\n",
    "\n",
    "\n",
    "---------------------WRITE QUERY ABOVE---------------------\n",
    "\"\"\")\n",
    "\n",
    "ans"
   ]
  },
  {
   "cell_type": "markdown",
   "metadata": {},
   "source": [
    "<h2> Questions on Basic SQL</h2>"
   ]
  },
  {
   "cell_type": "markdown",
   "metadata": {},
   "source": [
    "<b>Q1.</b> How many customers do not have DOB information available?"
   ]
  },
  {
   "cell_type": "code",
   "execution_count": 35,
   "metadata": {},
   "outputs": [
    {
     "data": {
      "text/html": [
       "<div>\n",
       "<style scoped>\n",
       "    .dataframe tbody tr th:only-of-type {\n",
       "        vertical-align: middle;\n",
       "    }\n",
       "\n",
       "    .dataframe tbody tr th {\n",
       "        vertical-align: top;\n",
       "    }\n",
       "\n",
       "    .dataframe thead th {\n",
       "        text-align: right;\n",
       "    }\n",
       "</style>\n",
       "<table border=\"1\" class=\"dataframe\">\n",
       "  <thead>\n",
       "    <tr style=\"text-align: right;\">\n",
       "      <th></th>\n",
       "      <th>DOB_Missing</th>\n",
       "    </tr>\n",
       "  </thead>\n",
       "  <tbody>\n",
       "    <tr>\n",
       "      <th>0</th>\n",
       "      <td>2</td>\n",
       "    </tr>\n",
       "  </tbody>\n",
       "</table>\n",
       "</div>"
      ],
      "text/plain": [
       "   DOB_Missing\n",
       "0            2"
      ]
     },
     "execution_count": 35,
     "metadata": {},
     "output_type": "execute_result"
    }
   ],
   "source": [
    "#SELECT count(*) FROM us WHERE a IS NULL\n",
    "\n",
    "ans = ps.sqldf(\"\"\"\n",
    "---------------------WRITE QUERY BELOW---------------------\n",
    "\n",
    "SELECT count(*) as DOB_Missing\n",
    "FROM customer_dim\n",
    "WHERE dob IS NULL\n",
    "\n",
    "---------------------WRITE QUERY ABOVE---------------------\n",
    "\"\"\")\n",
    "\n",
    "ans"
   ]
  },
  {
   "cell_type": "markdown",
   "metadata": {},
   "source": [
    "<b>Q2.</b> How many customers are there in each pincode and gender combination?"
   ]
  },
  {
   "cell_type": "code",
   "execution_count": 38,
   "metadata": {},
   "outputs": [
    {
     "data": {
      "text/html": [
       "<div>\n",
       "<style scoped>\n",
       "    .dataframe tbody tr th:only-of-type {\n",
       "        vertical-align: middle;\n",
       "    }\n",
       "\n",
       "    .dataframe tbody tr th {\n",
       "        vertical-align: top;\n",
       "    }\n",
       "\n",
       "    .dataframe thead th {\n",
       "        text-align: right;\n",
       "    }\n",
       "</style>\n",
       "<table border=\"1\" class=\"dataframe\">\n",
       "  <thead>\n",
       "    <tr style=\"text-align: right;\">\n",
       "      <th></th>\n",
       "      <th>pincode</th>\n",
       "      <th>gender</th>\n",
       "      <th>Customer_Count</th>\n",
       "    </tr>\n",
       "  </thead>\n",
       "  <tbody>\n",
       "    <tr>\n",
       "      <th>0</th>\n",
       "      <td>110001</td>\n",
       "      <td>male</td>\n",
       "      <td>3</td>\n",
       "    </tr>\n",
       "    <tr>\n",
       "      <th>1</th>\n",
       "      <td>400001</td>\n",
       "      <td>male</td>\n",
       "      <td>2</td>\n",
       "    </tr>\n",
       "    <tr>\n",
       "      <th>2</th>\n",
       "      <td>500001</td>\n",
       "      <td>female</td>\n",
       "      <td>1</td>\n",
       "    </tr>\n",
       "    <tr>\n",
       "      <th>3</th>\n",
       "      <td>500001</td>\n",
       "      <td>male</td>\n",
       "      <td>1</td>\n",
       "    </tr>\n",
       "    <tr>\n",
       "      <th>4</th>\n",
       "      <td>560001</td>\n",
       "      <td>female</td>\n",
       "      <td>1</td>\n",
       "    </tr>\n",
       "    <tr>\n",
       "      <th>5</th>\n",
       "      <td>560001</td>\n",
       "      <td>male</td>\n",
       "      <td>1</td>\n",
       "    </tr>\n",
       "    <tr>\n",
       "      <th>6</th>\n",
       "      <td>600001</td>\n",
       "      <td>female</td>\n",
       "      <td>1</td>\n",
       "    </tr>\n",
       "    <tr>\n",
       "      <th>7</th>\n",
       "      <td>600001</td>\n",
       "      <td>male</td>\n",
       "      <td>1</td>\n",
       "    </tr>\n",
       "    <tr>\n",
       "      <th>8</th>\n",
       "      <td>700001</td>\n",
       "      <td>female</td>\n",
       "      <td>1</td>\n",
       "    </tr>\n",
       "    <tr>\n",
       "      <th>9</th>\n",
       "      <td>700001</td>\n",
       "      <td>male</td>\n",
       "      <td>2</td>\n",
       "    </tr>\n",
       "  </tbody>\n",
       "</table>\n",
       "</div>"
      ],
      "text/plain": [
       "   pincode  gender  Customer_Count\n",
       "0   110001    male               3\n",
       "1   400001    male               2\n",
       "2   500001  female               1\n",
       "3   500001    male               1\n",
       "4   560001  female               1\n",
       "5   560001    male               1\n",
       "6   600001  female               1\n",
       "7   600001    male               1\n",
       "8   700001  female               1\n",
       "9   700001    male               2"
      ]
     },
     "execution_count": 38,
     "metadata": {},
     "output_type": "execute_result"
    }
   ],
   "source": [
    "ans = ps.sqldf(\"\"\"\n",
    "---------------------WRITE QUERY BELOW---------------------\n",
    "\n",
    "SELECT \n",
    "    customers.primary_pincode as pincode,\n",
    "    customers.gender,\n",
    "    COUNT(*) AS Customer_Count  \n",
    "FROM customer_dim AS customers\n",
    "\n",
    "GROUP BY customers.primary_pincode,\n",
    "    customers.gender\n",
    "\n",
    "---------------------WRITE QUERY ABOVE---------------------\n",
    "\"\"\")\n",
    "\n",
    "ans"
   ]
  },
  {
   "cell_type": "code",
   "execution_count": 42,
   "metadata": {
    "scrolled": true
   },
   "outputs": [
    {
     "data": {
      "text/html": [
       "<div>\n",
       "<style scoped>\n",
       "    .dataframe tbody tr th:only-of-type {\n",
       "        vertical-align: middle;\n",
       "    }\n",
       "\n",
       "    .dataframe tbody tr th {\n",
       "        vertical-align: top;\n",
       "    }\n",
       "\n",
       "    .dataframe thead th {\n",
       "        text-align: right;\n",
       "    }\n",
       "</style>\n",
       "<table border=\"1\" class=\"dataframe\">\n",
       "  <thead>\n",
       "    <tr style=\"text-align: right;\">\n",
       "      <th></th>\n",
       "      <th>product_id</th>\n",
       "      <th>product_name</th>\n",
       "      <th>brand</th>\n",
       "      <th>category</th>\n",
       "      <th>procurement_cost_per_unit</th>\n",
       "      <th>mrp</th>\n",
       "    </tr>\n",
       "  </thead>\n",
       "  <tbody>\n",
       "    <tr>\n",
       "      <th>0</th>\n",
       "      <td>12345</td>\n",
       "      <td>HP XYZ Mouse</td>\n",
       "      <td>HP</td>\n",
       "      <td>mouse</td>\n",
       "      <td>650</td>\n",
       "      <td>1500</td>\n",
       "    </tr>\n",
       "    <tr>\n",
       "      <th>1</th>\n",
       "      <td>12346</td>\n",
       "      <td>HP 241H</td>\n",
       "      <td>HP</td>\n",
       "      <td>laptop</td>\n",
       "      <td>45000</td>\n",
       "      <td>80000</td>\n",
       "    </tr>\n",
       "    <tr>\n",
       "      <th>2</th>\n",
       "      <td>12347</td>\n",
       "      <td>HP 8GB Pendrive</td>\n",
       "      <td>HP</td>\n",
       "      <td>pendrive</td>\n",
       "      <td>350</td>\n",
       "      <td>800</td>\n",
       "    </tr>\n",
       "  </tbody>\n",
       "</table>\n",
       "</div>"
      ],
      "text/plain": [
       "   product_id     product_name brand  category  procurement_cost_per_unit  \\\n",
       "0       12345     HP XYZ Mouse    HP     mouse                        650   \n",
       "1       12346          HP 241H    HP    laptop                      45000   \n",
       "2       12347  HP 8GB Pendrive    HP  pendrive                        350   \n",
       "\n",
       "     mrp  \n",
       "0   1500  \n",
       "1  80000  \n",
       "2    800  "
      ]
     },
     "execution_count": 42,
     "metadata": {},
     "output_type": "execute_result"
    }
   ],
   "source": [
    "product_dim.head(3)"
   ]
  },
  {
   "cell_type": "markdown",
   "metadata": {},
   "source": [
    "<b>Q3.</b> Print product name and mrp for products which have more than 50000 MRP"
   ]
  },
  {
   "cell_type": "code",
   "execution_count": 43,
   "metadata": {},
   "outputs": [
    {
     "data": {
      "text/html": [
       "<div>\n",
       "<style scoped>\n",
       "    .dataframe tbody tr th:only-of-type {\n",
       "        vertical-align: middle;\n",
       "    }\n",
       "\n",
       "    .dataframe tbody tr th {\n",
       "        vertical-align: top;\n",
       "    }\n",
       "\n",
       "    .dataframe thead th {\n",
       "        text-align: right;\n",
       "    }\n",
       "</style>\n",
       "<table border=\"1\" class=\"dataframe\">\n",
       "  <thead>\n",
       "    <tr style=\"text-align: right;\">\n",
       "      <th></th>\n",
       "      <th>product_name</th>\n",
       "      <th>MRP</th>\n",
       "    </tr>\n",
       "  </thead>\n",
       "  <tbody>\n",
       "    <tr>\n",
       "      <th>0</th>\n",
       "      <td>HP 241H</td>\n",
       "      <td>80000</td>\n",
       "    </tr>\n",
       "    <tr>\n",
       "      <th>1</th>\n",
       "      <td>Dell AX420</td>\n",
       "      <td>75000</td>\n",
       "    </tr>\n",
       "  </tbody>\n",
       "</table>\n",
       "</div>"
      ],
      "text/plain": [
       "  product_name    MRP\n",
       "0      HP 241H  80000\n",
       "1   Dell AX420  75000"
      ]
     },
     "execution_count": 43,
     "metadata": {},
     "output_type": "execute_result"
    }
   ],
   "source": [
    "ans = ps.sqldf(\"\"\"\n",
    "---------------------WRITE QUERY BELOW---------------------\n",
    "\n",
    "SELECT\n",
    "    products.product_name,\n",
    "    products.mrp as MRP   \n",
    "FROM product_dim as products\n",
    "\n",
    "WHERE products.mrp > 50000\n",
    "\n",
    "---------------------WRITE QUERY ABOVE---------------------\n",
    "\"\"\")\n",
    "\n",
    "ans"
   ]
  },
  {
   "cell_type": "markdown",
   "metadata": {},
   "source": [
    "<b>Q4.</b> How many delivery personal are there in each pincode?"
   ]
  },
  {
   "cell_type": "code",
   "execution_count": null,
   "metadata": {},
   "outputs": [],
   "source": [
    "ans = ps.sqldf(\"\"\"\n",
    "---------------------WRITE QUERY BELOW---------------------\n",
    "\n",
    "\n",
    "\n",
    "---------------------WRITE QUERY ABOVE---------------------\n",
    "\"\"\")\n",
    "\n",
    "ans"
   ]
  },
  {
   "cell_type": "markdown",
   "metadata": {},
   "source": [
    "<b>Q5.</b> For each Pin code, print the count of orders, sum of total amount paid, average amount paid, maximum amount paid, minimum amount paid for the transactions which were paid by 'cash'. Take only 'buy' order types"
   ]
  },
  {
   "cell_type": "code",
   "execution_count": null,
   "metadata": {},
   "outputs": [],
   "source": [
    "ans = ps.sqldf(\"\"\"\n",
    "---------------------WRITE QUERY BELOW---------------------\n",
    "\n",
    "\n",
    "\n",
    "---------------------WRITE QUERY ABOVE---------------------\n",
    "\"\"\")\n",
    "\n",
    "ans"
   ]
  },
  {
   "cell_type": "markdown",
   "metadata": {},
   "source": [
    "<b>Q6.</b> For each delivery_person_id, print the count of orders and total amount paid for product_id = 12350 or 12348 and total units > 8. Sort the output by total amount paid in descending order. Take only 'buy' order types"
   ]
  },
  {
   "cell_type": "code",
   "execution_count": null,
   "metadata": {},
   "outputs": [],
   "source": [
    "ans = ps.sqldf(\"\"\"\n",
    "---------------------WRITE QUERY BELOW---------------------\n",
    "\n",
    "\n",
    "\n",
    "---------------------WRITE QUERY ABOVE---------------------\n",
    "\"\"\")\n",
    "\n",
    "ans"
   ]
  },
  {
   "cell_type": "markdown",
   "metadata": {},
   "source": [
    "<b>Q7.</b> Print the Full names (first name plus last name) for customers that have email on \"gmail.com\"?"
   ]
  },
  {
   "cell_type": "code",
   "execution_count": null,
   "metadata": {},
   "outputs": [],
   "source": [
    "ans = ps.sqldf(\"\"\"\n",
    "---------------------WRITE QUERY BELOW---------------------\n",
    "\n",
    "\n",
    "\n",
    "---------------------WRITE QUERY ABOVE---------------------\n",
    "\"\"\")\n",
    "\n",
    "ans"
   ]
  },
  {
   "cell_type": "markdown",
   "metadata": {},
   "source": [
    "<b>Q8.</b> How many orders had #units between 1-3, 4-6 and 7+? Take only 'buy' order types"
   ]
  },
  {
   "cell_type": "code",
   "execution_count": null,
   "metadata": {},
   "outputs": [],
   "source": [
    "ans = ps.sqldf(\"\"\"\n",
    "---------------------WRITE QUERY BELOW---------------------\n",
    "\n",
    "\n",
    "\n",
    "---------------------WRITE QUERY ABOVE---------------------\n",
    "\"\"\")\n",
    "\n",
    "ans"
   ]
  },
  {
   "cell_type": "markdown",
   "metadata": {},
   "source": [
    "<b>Q9.</b> Which pincode has average amount paid more than 150,000? Take only 'buy' order types"
   ]
  },
  {
   "cell_type": "code",
   "execution_count": null,
   "metadata": {},
   "outputs": [],
   "source": [
    "ans = ps.sqldf(\"\"\"\n",
    "---------------------WRITE QUERY BELOW---------------------\n",
    "\n",
    "\n",
    "\n",
    "---------------------WRITE QUERY ABOVE---------------------\n",
    "\"\"\")\n",
    "\n",
    "ans"
   ]
  },
  {
   "cell_type": "markdown",
   "metadata": {},
   "source": [
    "<b>Q10.</b> Create following columns from order_dim data - \n",
    "<ol>\n",
    "    <li>order_date</li>\n",
    "    <li>Order day</li>\n",
    "    <li>Order month</li>\n",
    "    <li>Order year</li> \n",
    "</ol>"
   ]
  },
  {
   "cell_type": "code",
   "execution_count": null,
   "metadata": {},
   "outputs": [],
   "source": [
    "ans = ps.sqldf(\"\"\"\n",
    "---------------------WRITE QUERY BELOW---------------------\n",
    "\n",
    "\n",
    "\n",
    "---------------------WRITE QUERY ABOVE---------------------\n",
    "\"\"\")\n",
    "\n",
    "ans.sample(5)"
   ]
  },
  {
   "cell_type": "markdown",
   "metadata": {},
   "source": [
    "<b>Q11.</b> How many total orders were there in each month and how many of them were returned? Add a column for return rate too.<br>\n",
    "return rate = (100.0 * total return orders) / total buy orders<br>\n",
    "Hint: You will need to combine SUM() with CASE WHEN"
   ]
  },
  {
   "cell_type": "code",
   "execution_count": null,
   "metadata": {
    "scrolled": true
   },
   "outputs": [],
   "source": [
    "ans = ps.sqldf(\"\"\"\n",
    "---------------------WRITE QUERY BELOW---------------------\n",
    "\n",
    "\n",
    "\n",
    "---------------------WRITE QUERY ABOVE---------------------\n",
    "\"\"\")\n",
    "\n",
    "ans"
   ]
  },
  {
   "cell_type": "markdown",
   "metadata": {},
   "source": [
    "<h2> Questions on SQL Joins</h2>"
   ]
  },
  {
   "cell_type": "markdown",
   "metadata": {},
   "source": [
    "<b>Q12.</b> How many units have been sold by each brand? Also get total returned units for each brand."
   ]
  },
  {
   "cell_type": "code",
   "execution_count": null,
   "metadata": {},
   "outputs": [],
   "source": [
    "ans = ps.sqldf(\"\"\"\n",
    "---------------------WRITE QUERY BELOW---------------------\n",
    "\n",
    "\n",
    "\n",
    "---------------------WRITE QUERY ABOVE---------------------\n",
    "\"\"\")\n",
    "\n",
    "ans"
   ]
  },
  {
   "cell_type": "markdown",
   "metadata": {},
   "source": [
    "<b>Q13.</b> How many distinct customers and delivery boys are there in each state?"
   ]
  },
  {
   "cell_type": "code",
   "execution_count": null,
   "metadata": {},
   "outputs": [],
   "source": [
    "ans = ps.sqldf(\"\"\"\n",
    "---------------------WRITE QUERY BELOW---------------------\n",
    "\n",
    "\n",
    "\n",
    "---------------------WRITE QUERY ABOVE---------------------\n",
    "\"\"\")\n",
    "\n",
    "ans"
   ]
  },
  {
   "cell_type": "markdown",
   "metadata": {},
   "source": [
    "<b>Q14.</b> For every customer, print how many total units were ordered, how many units were ordered from their primary_pincode and how many were ordered not from the primary_pincode. Also calulate the percentage of total units which were ordered from primary_pincode(remember to multiply the numerator by 100.0). Sort by the percentage column in descending order."
   ]
  },
  {
   "cell_type": "code",
   "execution_count": null,
   "metadata": {},
   "outputs": [],
   "source": [
    "ans = ps.sqldf(\"\"\"\n",
    "---------------------WRITE QUERY BELOW---------------------\n",
    "\n",
    "\n",
    "\n",
    "---------------------WRITE QUERY ABOVE---------------------\n",
    "\"\"\")\n",
    "\n",
    "ans"
   ]
  },
  {
   "cell_type": "markdown",
   "metadata": {},
   "source": [
    "<b>Q15.</b> For each product name, print the sum of number of units, total amount paid, total displayed selling price, total mrp of these units, and finally the net discount from selling price (i.e. 100.0 - 100.0 * total amount paid / total displayed selling price) AND the net discount from mrp (i.e. 100.0 - 100.0 * total amount paid / total mrp)"
   ]
  },
  {
   "cell_type": "code",
   "execution_count": null,
   "metadata": {},
   "outputs": [],
   "source": [
    "ans = ps.sqldf(\"\"\"\n",
    "---------------------WRITE QUERY BELOW---------------------\n",
    "\n",
    "\n",
    "\n",
    "---------------------WRITE QUERY ABOVE---------------------\n",
    "\"\"\")\n",
    "\n",
    "ans"
   ]
  },
  {
   "cell_type": "markdown",
   "metadata": {},
   "source": [
    "<b>Q16.</b> For every order_id (exclude returns), get the product name and calculate the discount percentage from selling price. Sort by highest discount and print only those rows where discount percentage was above 10.10%."
   ]
  },
  {
   "cell_type": "code",
   "execution_count": null,
   "metadata": {
    "scrolled": true
   },
   "outputs": [],
   "source": [
    "ans = ps.sqldf(\"\"\"\n",
    "---------------------WRITE QUERY BELOW---------------------\n",
    "\n",
    "\n",
    "\n",
    "---------------------WRITE QUERY ABOVE---------------------\n",
    "\"\"\")\n",
    "\n",
    "ans"
   ]
  },
  {
   "cell_type": "markdown",
   "metadata": {},
   "source": [
    "<b>Q17.</b> Using the per unit procurement cost in product_dim, find which product category has made the most profit in both absolute amount and percentage<br>\n",
    "Absolute Profit = Total Amt Sold - Total Procurement Cost<br>\n",
    "Percentage Profit = 100.0 * Total Amt Sold / Total Procurement Cost - 100.0"
   ]
  },
  {
   "cell_type": "code",
   "execution_count": null,
   "metadata": {
    "scrolled": true
   },
   "outputs": [],
   "source": [
    "ans = ps.sqldf(\"\"\"\n",
    "---------------------WRITE QUERY BELOW---------------------\n",
    "\n",
    "\n",
    "\n",
    "---------------------WRITE QUERY ABOVE---------------------\n",
    "\"\"\")\n",
    "\n",
    "ans"
   ]
  },
  {
   "cell_type": "markdown",
   "metadata": {},
   "source": [
    "<b>Q18.</b> For every delivery person(use their name), print the total number of order ids (exclude returns) by month in seperate columns i.e. there should be one row for each delivery_person_id and 12 columns for every month in the year"
   ]
  },
  {
   "cell_type": "code",
   "execution_count": null,
   "metadata": {
    "scrolled": true
   },
   "outputs": [],
   "source": [
    "ans = ps.sqldf(\"\"\"\n",
    "---------------------WRITE QUERY BELOW---------------------\n",
    "\n",
    "\n",
    "\n",
    "---------------------WRITE QUERY ABOVE---------------------\n",
    "\"\"\")\n",
    "\n",
    "ans"
   ]
  },
  {
   "cell_type": "markdown",
   "metadata": {},
   "source": [
    "<b>Q19.</b> For each gender - male and female - find the absolute and percentage profit (like in Q16) by product name. "
   ]
  },
  {
   "cell_type": "code",
   "execution_count": null,
   "metadata": {
    "scrolled": true
   },
   "outputs": [],
   "source": [
    "ans = ps.sqldf(\"\"\"\n",
    "---------------------WRITE QUERY BELOW---------------------\n",
    "\n",
    "\n",
    "\n",
    "---------------------WRITE QUERY ABOVE---------------------\n",
    "\"\"\")\n",
    "\n",
    "ans"
   ]
  },
  {
   "cell_type": "markdown",
   "metadata": {},
   "source": [
    "<b>Q20.</b> Generally the more numbers of units you buy, the more discount seller will give you. For 'Dell AX420' is there a relationship between number of units ordered and average discount from selling price? Take only 'buy' order types"
   ]
  },
  {
   "cell_type": "code",
   "execution_count": null,
   "metadata": {
    "scrolled": true
   },
   "outputs": [],
   "source": [
    "ans = ps.sqldf(\"\"\"\n",
    "---------------------WRITE QUERY BELOW---------------------\n",
    "\n",
    "\n",
    "\n",
    "---------------------WRITE QUERY ABOVE---------------------\n",
    "\"\"\")\n",
    "\n",
    "ans"
   ]
  },
  {
   "cell_type": "markdown",
   "metadata": {},
   "source": [
    "And lastly, remember this :) -"
   ]
  },
  {
   "cell_type": "markdown",
   "metadata": {},
   "source": [
    "<font size = 10 color=\"green\">\"</font><br>\n",
    "<div align = center> \n",
    "    <font size = 5 color=\"green\" style=\"font-family: 'Comic Sans MS'\">Pass on what you have learned</font><br>\n",
    "</div>\n",
    "<div align = right> \n",
    "    <font size = 10 color=\"green\"t>\"</font><br>\n",
    "</div>\n",
    "<img align = \"right\" src = \"https://orig00.deviantart.net/ff5e/f/2013/102/4/4/yoda_by_valval-d61g9rh.png\" width=\"20%\" height=\"20%\">"
   ]
  }
 ],
 "metadata": {
  "kernelspec": {
   "display_name": "Python 3",
   "language": "python",
   "name": "python3"
  },
  "language_info": {
   "codemirror_mode": {
    "name": "ipython",
    "version": 3
   },
   "file_extension": ".py",
   "mimetype": "text/x-python",
   "name": "python",
   "nbconvert_exporter": "python",
   "pygments_lexer": "ipython3",
   "version": "3.7.7"
  }
 },
 "nbformat": 4,
 "nbformat_minor": 2
}
